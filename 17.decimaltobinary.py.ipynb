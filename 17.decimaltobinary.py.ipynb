{
 "cells": [
  {
   "cell_type": "code",
   "execution_count": 1,
   "metadata": {
    "ExecuteTime": {
     "end_time": "2019-01-18T01:18:35.973989Z",
     "start_time": "2019-01-18T01:18:31.592523Z"
    }
   },
   "outputs": [
    {
     "name": "stdout",
     "output_type": "stream",
     "text": [
      "Enter a decimal integer: 34\n",
      "Quotient Remainder BInary\n",
      "   17       0           0\n",
      "    8       1          10\n",
      "    4       0         010\n",
      "    2       0        0010\n",
      "    1       0       00010\n",
      "    0       1      100010\n",
      "The binary representation is 100010\n"
     ]
    }
   ],
   "source": [
    "# -*- coding: utf-8 -*-\n",
    "\"\"\"\n",
    "Created on Thu Jan 17, 2019\n",
    "\n",
    "File: decimaltobinary.py\n",
    "Converts a decimal integer to a string of bits.\n",
    "@author: Byen23\n",
    "\"\"\"\n",
    "# This is to be my 17th program to be uploaded to Github.com\n",
    "\n",
    "decimal = int(input(\"Enter a decimal integer: \"))\n",
    "if decimal == 0:\n",
    "\tprint(0)\n",
    "else:\n",
    "\tprint(\"Quotient Remainder BInary\")\n",
    "\tbitString = \"\"\n",
    "\twhile decimal > 0:\n",
    "\t\tremainder = decimal % 2 \n",
    "\t\tdecimal = decimal // 2\n",
    "\t\tbitString = str(remainder) + bitString\n",
    "\t\tprint(\"%5d%8d%12s\" % (decimal, remainder, bitString))\n",
    "print(\"The binary representation is\", bitString)"
   ]
  }
 ],
 "metadata": {
  "kernelspec": {
   "display_name": "Python 3",
   "language": "python",
   "name": "python3"
  },
  "language_info": {
   "codemirror_mode": {
    "name": "ipython",
    "version": 3
   },
   "file_extension": ".py",
   "mimetype": "text/x-python",
   "name": "python",
   "nbconvert_exporter": "python",
   "pygments_lexer": "ipython3",
   "version": "3.6.8"
  }
 },
 "nbformat": 4,
 "nbformat_minor": 2
}
